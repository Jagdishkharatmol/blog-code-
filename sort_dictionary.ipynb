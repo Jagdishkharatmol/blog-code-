{
 "cells": [
  {
   "cell_type": "code",
   "execution_count": null,
   "metadata": {},
   "outputs": [],
   "source": [
    "my_dict = {'b': 2, 'a': 1, 'c': 3}\n"
   ]
  },
  {
   "cell_type": "markdown",
   "metadata": {},
   "source": [
    "Sort a dictionary by key"
   ]
  },
  {
   "cell_type": "code",
   "execution_count": 13,
   "metadata": {},
   "outputs": [
    {
     "data": {
      "text/plain": [
       "{'apple': 3, 'banana': 2, 'orange': 1}"
      ]
     },
     "execution_count": 13,
     "metadata": {},
     "output_type": "execute_result"
    }
   ],
   "source": [
    "# Sample dictionary\n",
    "my_dict = {'apple': 3, 'banana': 2, 'orange': 1}\n",
    "\n",
    "# Sorting the dictionary by its keys\n",
    "sorted_dict = dict(sorted(my_dict.items()))\n",
    "sorted_dict\n",
    "#output:{'apple': 3, 'banana': 2, 'orange': 1}"
   ]
  },
  {
   "cell_type": "markdown",
   "metadata": {},
   "source": [
    "Sort a dictionary by value"
   ]
  },
  {
   "cell_type": "code",
   "execution_count": 14,
   "metadata": {},
   "outputs": [
    {
     "name": "stdout",
     "output_type": "stream",
     "text": [
      "{'a': 1, 'b': 2, 'c': 3}\n"
     ]
    }
   ],
   "source": [
    "my_dict = {'b': 2, 'a': 1, 'c': 3}\n",
    "sorted_dict = {key: value for key, value in sorted(my_dict.items(), key=lambda item: item[1])}\n",
    "print(sorted_dict)\n"
   ]
  },
  {
   "cell_type": "markdown",
   "metadata": {},
   "source": [
    "alphabetically sorting a dictionary by key"
   ]
  },
  {
   "cell_type": "code",
   "execution_count": 15,
   "metadata": {},
   "outputs": [
    {
     "name": "stdout",
     "output_type": "stream",
     "text": [
      "{'apple': 2, 'banana': 3, 'cherry': 1}\n"
     ]
    }
   ],
   "source": [
    "unsorted_dict = {'apple': 2, 'banana': 3, 'cherry': 1}\n",
    "sorted_dict = dict(sorted(unsorted_dict.items()))  # Sort by keys alphabetically\n",
    "print(sorted_dict)  # Output: {'apple': 2, 'banana': 3, 'cherry': 1}"
   ]
  },
  {
   "cell_type": "markdown",
   "metadata": {},
   "source": [
    "Dictionary sorting without inbuilt function"
   ]
  },
  {
   "cell_type": "code",
   "execution_count": 16,
   "metadata": {},
   "outputs": [
    {
     "name": "stdout",
     "output_type": "stream",
     "text": [
      "{1: 'jagdish', 2: 'rishi', 3: 'rahul', 10: 'mangesh'}\n"
     ]
    }
   ],
   "source": [
    "unsorted_dict={1:'jagdish',10:'mangesh',3:'rahul',2:'rishi'}\n",
    "\n",
    "keys=list(unsorted_dict.keys())\n",
    "\n",
    "#code for sorting a list\n",
    "for i in range(len(keys)):\n",
    "    for j in range(0, len(keys)-i-1):\n",
    "        if keys[j] > keys[j+1]:\n",
    "            keys[j], keys[j+1] = keys[j+1], keys[j]\n",
    "\n",
    "sorted_dict={key:unsorted_dict[key] for key in keys}\n",
    "print(sorted_dict)\n"
   ]
  },
  {
   "cell_type": "code",
   "execution_count": null,
   "metadata": {},
   "outputs": [],
   "source": []
  },
  {
   "cell_type": "code",
   "execution_count": null,
   "metadata": {},
   "outputs": [],
   "source": []
  },
  {
   "cell_type": "code",
   "execution_count": null,
   "metadata": {},
   "outputs": [],
   "source": []
  }
 ],
 "metadata": {
  "kernelspec": {
   "display_name": "Python 3",
   "language": "python",
   "name": "python3"
  },
  "language_info": {
   "codemirror_mode": {
    "name": "ipython",
    "version": 3
   },
   "file_extension": ".py",
   "mimetype": "text/x-python",
   "name": "python",
   "nbconvert_exporter": "python",
   "pygments_lexer": "ipython3",
   "version": "3.10.7"
  }
 },
 "nbformat": 4,
 "nbformat_minor": 2
}
