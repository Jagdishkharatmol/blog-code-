{
  "nbformat": 4,
  "nbformat_minor": 0,
  "metadata": {
    "colab": {
      "provenance": []
    },
    "kernelspec": {
      "name": "python3",
      "display_name": "Python 3"
    },
    "language_info": {
      "name": "python"
    }
  },
  "cells": [
    {
      "cell_type": "markdown",
      "source": [
        "**Syntax of numpy.where**\n",
        "\n",
        "\tnp.where(condition, x, y)\n",
        "\n",
        "Numpy where function consists of three major components i.e condition, x, and y. Condition is a boolean array which helps to decide which value would be taken from x or y. X is the value or array to be used when condition is true and similarly y is the value or array to be used if condition is False.\n"
      ],
      "metadata": {
        "id": "esUl6T9Vt8nX"
      }
    },
    {
      "cell_type": "markdown",
      "source": [
        "**Single condition**"
      ],
      "metadata": {
        "id": "rhBOngTDwXBH"
      }
    },
    {
      "cell_type": "code",
      "execution_count": null,
      "metadata": {
        "colab": {
          "base_uri": "https://localhost:8080/"
        },
        "id": "bwaBT9Xqr7Ph",
        "outputId": "7fd0ba97-1e55-4e83-8392-b00bdbd02952"
      },
      "outputs": [
        {
          "output_type": "execute_result",
          "data": {
            "text/plain": [
              "array([6, 5, 9, 7, 3, 5, 7, 1, 4, 1])"
            ]
          },
          "metadata": {},
          "execution_count": 2
        }
      ],
      "source": [
        "# Creating a array of random number using numpy\n",
        "import numpy as np\n",
        "arr = np.random.randint(0, 10, size=10)\n",
        "arr"
      ]
    },
    {
      "cell_type": "code",
      "source": [
        "# applying a condition of classifing number greater than or less than 5\n",
        "condition=arr>5\n",
        "results=np.where(arr>5,'greater than 5','lesser than 5')\n",
        "results"
      ],
      "metadata": {
        "colab": {
          "base_uri": "https://localhost:8080/"
        },
        "id": "56pPDuAqsgrr",
        "outputId": "9d7a9324-0975-42c8-86d8-2b3a8b963ae6"
      },
      "execution_count": null,
      "outputs": [
        {
          "output_type": "execute_result",
          "data": {
            "text/plain": [
              "array(['lesser than 5', 'lesser than 5', 'lesser than 5', 'lesser than 5',\n",
              "       'lesser than 5', 'lesser than 5', 'greater than 5',\n",
              "       'greater than 5', 'lesser than 5', 'greater than 5'], dtype='<U14')"
            ]
          },
          "metadata": {},
          "execution_count": 3
        }
      ]
    },
    {
      "cell_type": "code",
      "source": [
        "#printing the number and output from np.where function together.\n",
        "for index in range(len(arr)):\n",
        "  print(f\"{arr[index]} is {results[index]}\")"
      ],
      "metadata": {
        "colab": {
          "base_uri": "https://localhost:8080/"
        },
        "id": "R5nrcArRu4OE",
        "outputId": "1fdac02e-da0e-4e5b-ef0f-78f1618026f4"
      },
      "execution_count": null,
      "outputs": [
        {
          "output_type": "stream",
          "name": "stdout",
          "text": [
            "1 is lesser than 5\n",
            "2 is lesser than 5\n",
            "1 is lesser than 5\n",
            "0 is lesser than 5\n",
            "1 is lesser than 5\n",
            "5 is lesser than 5\n",
            "7 is greater than 5\n",
            "7 is greater than 5\n",
            "2 is lesser than 5\n",
            "6 is greater than 5\n"
          ]
        }
      ]
    },
    {
      "cell_type": "markdown",
      "source": [
        "**Multiple condition**"
      ],
      "metadata": {
        "id": "eT4wPI_xxRWR"
      }
    },
    {
      "cell_type": "markdown",
      "source": [
        "And Condition"
      ],
      "metadata": {
        "id": "uWouMXrMJ-AX"
      }
    },
    {
      "cell_type": "code",
      "source": [
        "arr = np.array([2, 5, 1, 8, 3])\n",
        "result = np.where((arr > 3) & (arr % 2 == 0), 'Even and greater than 3', 'Other')\n",
        "print(result)"
      ],
      "metadata": {
        "id": "5S_TfECBu9SH",
        "colab": {
          "base_uri": "https://localhost:8080/"
        },
        "outputId": "2e692754-315a-44a0-d66a-b88cea3af49d"
      },
      "execution_count": null,
      "outputs": [
        {
          "output_type": "stream",
          "name": "stdout",
          "text": [
            "['Other' 'Other' 'Other' 'Even and greater than 3' 'Other']\n"
          ]
        }
      ]
    },
    {
      "cell_type": "markdown",
      "source": [
        "Or condition"
      ],
      "metadata": {
        "id": "uaFqr6UuKA6o"
      }
    },
    {
      "cell_type": "code",
      "source": [
        "arr = np.array([10, -5, 2, 0, 7])\n",
        "result = np.where((arr % 3==0) | (arr % 7==0), 'Number is divisible by 3 or 7', 'Number is not divisible by 3 or 7')\n",
        "print(result)  # Output: ['Outside of -5 to 5' 'Outside of -5 to 5' 'Within -5 to 5' 'Within -5 to 5' 'Outside of -5 to 5']\n"
      ],
      "metadata": {
        "colab": {
          "base_uri": "https://localhost:8080/"
        },
        "id": "5L1JKYicGYr5",
        "outputId": "3ae9ee8c-6689-4f45-d4e0-39fa54495707"
      },
      "execution_count": null,
      "outputs": [
        {
          "output_type": "stream",
          "name": "stdout",
          "text": [
            "['Number is not divisible by 3 or 7' 'Number is not divisible by 3 or 7'\n",
            " 'Number is not divisible by 3 or 7' 'Number is divisible by 3 or 7'\n",
            " 'Number is divisible by 3 or 7']\n"
          ]
        }
      ]
    },
    {
      "cell_type": "markdown",
      "source": [
        "Not Condition"
      ],
      "metadata": {
        "id": "lO4Mfh7OKEt_"
      }
    },
    {
      "cell_type": "code",
      "source": [
        "arr = np.array([1, 2, 3, 4, 5])\n",
        "result = np.where(~(arr % 3 == 0) & (arr > 2), 'Meets criteria', 'Does not meet criteria')\n",
        "print(result)"
      ],
      "metadata": {
        "colab": {
          "base_uri": "https://localhost:8080/"
        },
        "id": "zJr9HVjAGgrt",
        "outputId": "d5807672-05bb-4a2b-99ed-2f74f7573039"
      },
      "execution_count": null,
      "outputs": [
        {
          "output_type": "stream",
          "name": "stdout",
          "text": [
            "['Does not meet criteria' 'Does not meet criteria'\n",
            " 'Does not meet criteria' 'Meets criteria' 'Meets criteria']\n"
          ]
        }
      ]
    },
    {
      "cell_type": "code",
      "source": [],
      "metadata": {
        "id": "D7b_nXELLKQF"
      },
      "execution_count": null,
      "outputs": []
    }
  ]
}