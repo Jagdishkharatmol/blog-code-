{
 "cells": [
  {
   "cell_type": "code",
   "execution_count": 4,
   "metadata": {},
   "outputs": [
    {
     "name": "stdout",
     "output_type": "stream",
     "text": [
      "Random Password: w>y5~T}v%+.!\n"
     ]
    }
   ],
   "source": [
    "import random\n",
    "import string\n",
    "\n",
    "def generate_password(length=12):\n",
    "    password=''\n",
    "    characters = string.ascii_letters + string.digits + string.punctuation\n",
    "    for i in range(length):\n",
    "        password += random.choice(characters)\n",
    "    return password\n",
    "\n",
    "\n",
    "def custom_generate_password(letters=3,digits=2,punctuation=4):\n",
    "    elements_letters=''.join([random.choice(string.ascii_letters ) for i in range(letters)])\n",
    "    elements_digits=''.join([random.choice(string.digits) for i in range(letters)])\n",
    "    elements_punctuation=''.join([random.choice(string.punctuation) for i in range(punctuation)])\n",
    "    password = ''.join(random.shuffle(list(elements_letters+elements_digits+elements_punctuation)))\n",
    "    return password\n",
    "\n",
    "random_password = generate_password()\n",
    "print(\"Random Password:\", random_password)"
   ]
  },
  {
   "cell_type": "code",
   "execution_count": null,
   "metadata": {},
   "outputs": [],
   "source": []
  }
 ],
 "metadata": {
  "kernelspec": {
   "display_name": "Python 3",
   "language": "python",
   "name": "python3"
  },
  "language_info": {
   "codemirror_mode": {
    "name": "ipython",
    "version": 3
   },
   "file_extension": ".py",
   "mimetype": "text/x-python",
   "name": "python",
   "nbconvert_exporter": "python",
   "pygments_lexer": "ipython3",
   "version": "3.10.7"
  }
 },
 "nbformat": 4,
 "nbformat_minor": 2
}
