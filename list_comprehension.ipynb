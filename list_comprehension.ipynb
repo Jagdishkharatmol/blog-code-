{
 "cells": [
  {
   "cell_type": "code",
   "execution_count": 1,
   "metadata": {},
   "outputs": [
    {
     "name": "stdout",
     "output_type": "stream",
     "text": [
      "[['This', 'is', 'the', 'first', 'paragraph.'], ['And', 'here', 'is', 'the', 'second', 'paragraph.'], ['The', 'last', 'one', 'is', 'the', 'third', 'paragraph.']]\n"
     ]
    }
   ],
   "source": [
    "paragraphs = [\"This is the first paragraph.\", \"And here is the second paragraph.\", \"The last one is the third paragraph.\"]\n",
    "word_lists = [paragraph.split() for paragraph in paragraphs]\n",
    "print(word_lists)\n"
   ]
  },
  {
   "cell_type": "code",
   "execution_count": 2,
   "metadata": {},
   "outputs": [
    {
     "name": "stdout",
     "output_type": "stream",
     "text": [
      "[12, 34, 56]\n"
     ]
    }
   ],
   "source": [
    "numbers=[12,3,67,34,56]\n",
    "even_numbers = [x for x in numbers if x % 2 == 0]  \n",
    "print(even_numbers)\n"
   ]
  },
  {
   "cell_type": "code",
   "execution_count": 4,
   "metadata": {},
   "outputs": [
    {
     "name": "stdout",
     "output_type": "stream",
     "text": [
      "['apple', 'ball', 'cat', 'elephant']\n"
     ]
    }
   ],
   "source": [
    "word_list=['apple','ball','cat','dog','elephant']\n",
    "words_with_a = [word for word in word_list if \"a\" in word]  \n",
    "print(words_with_a )\n"
   ]
  },
  {
   "cell_type": "code",
   "execution_count": 6,
   "metadata": {},
   "outputs": [
    {
     "name": "stdout",
     "output_type": "stream",
     "text": [
      "[('positive', 12), ('positive', 3), ('negative', -67), ('positive', 34), ('negative', -56)]\n"
     ]
    }
   ],
   "source": [
    "numbers=[12,3,-67,34,-56]\n",
    "positive_negative = [(\"positive\",x) if x > 0 else (\"negative\",x) for x in numbers]\n",
    "print(positive_negative )\n",
    "\n"
   ]
  },
  {
   "cell_type": "code",
   "execution_count": 8,
   "metadata": {},
   "outputs": [
    {
     "name": "stdout",
     "output_type": "stream",
     "text": [
      "[('a', 1), ('a', 2), ('a', 3), ('b', 1), ('b', 2), ('b', 3), ('c', 1), ('c', 2), ('c', 3)]\n"
     ]
    }
   ],
   "source": [
    "\n",
    "char=['a','b','c']\n",
    "number=[1,2,3]\n",
    "all_pairs = [(x, y) for x in char for y in number]\n",
    "print(all_pairs)\n"
   ]
  },
  {
   "cell_type": "code",
   "execution_count": 9,
   "metadata": {},
   "outputs": [],
   "source": [
    "\n",
    "square_dict = {key: key**2 for key in range(5)}\n",
    "print(square_dict)\n"
   ]
  },
  {
   "cell_type": "code",
   "execution_count": 11,
   "metadata": {},
   "outputs": [
    {
     "name": "stdout",
     "output_type": "stream",
     "text": [
      "{4: 12, 5: 25}\n"
     ]
    }
   ],
   "source": [
    "data={1:1,2:4,3:9,4:12,5:25}\n",
    "filtered_dict = {key: value for key, value in data.items() if value > 10} \n",
    "print(filtered_dict)"
   ]
  },
  {
   "cell_type": "code",
   "execution_count": 12,
   "metadata": {},
   "outputs": [
    {
     "name": "stdout",
     "output_type": "stream",
     "text": [
      "{2, 4, 6}\n"
     ]
    }
   ],
   "source": [
    "\n",
    "numbers = [1, 2, 3, 2, 4, 5, 4, 6]\n",
    "unique_even_set = {x for x in numbers if x % 2 == 0}\n",
    "print(unique_even_set)\n"
   ]
  },
  {
   "cell_type": "code",
   "execution_count": 13,
   "metadata": {},
   "outputs": [
    {
     "name": "stdout",
     "output_type": "stream",
     "text": [
      "[5, 7, 9]\n"
     ]
    }
   ],
   "source": [
    "\n",
    "list1 = [1, 2, 3]\n",
    "list2 = [4, 5, 6]\n",
    "sums = [x + y for x, y in zip(list1, list2)]\n",
    "print(sums)\n"
   ]
  },
  {
   "cell_type": "code",
   "execution_count": 14,
   "metadata": {},
   "outputs": [
    {
     "name": "stdout",
     "output_type": "stream",
     "text": [
      "[(0, 4), (1, 16), (2, 36), (3, 64), (4, 100)]\n"
     ]
    }
   ],
   "source": [
    "\n",
    "numbers = [2, 4, 6, 8, 10]\n",
    "squares_with_indices = [(index, num**2) for index, num in enumerate(numbers)]\n",
    "print(squares_with_indices)\n"
   ]
  },
  {
   "cell_type": "code",
   "execution_count": 16,
   "metadata": {},
   "outputs": [
    {
     "name": "stdout",
     "output_type": "stream",
     "text": [
      "['H', 'E', 'L', 'L', 'O']\n"
     ]
    }
   ],
   "source": [
    "\n",
    "uppercase_letters = [char.upper() for char in \"hello\"]  \n",
    "print(uppercase_letters)"
   ]
  }
 ],
 "metadata": {
  "kernelspec": {
   "display_name": "Python 3",
   "language": "python",
   "name": "python3"
  },
  "language_info": {
   "codemirror_mode": {
    "name": "ipython",
    "version": 3
   },
   "file_extension": ".py",
   "mimetype": "text/x-python",
   "name": "python",
   "nbconvert_exporter": "python",
   "pygments_lexer": "ipython3",
   "version": "3.10.7"
  }
 },
 "nbformat": 4,
 "nbformat_minor": 2
}
